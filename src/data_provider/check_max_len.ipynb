{
 "cells": [
  {
   "cell_type": "code",
   "execution_count": null,
   "id": "c2c097b4",
   "metadata": {},
   "outputs": [
    {
     "name": "stdout",
     "output_type": "stream",
     "text": [
      "Train max length: 346\n",
      "Test  max length: 350\n",
      "Total max length: 350\n"
     ]
    }
   ],
   "source": [
    "import os\n",
    "import h5py\n",
    "\n",
    "def find_max_sequence_length(h5_dir):\n",
    "    max_len = 0\n",
    "    file_lens = {}\n",
    "\n",
    "    for fname in os.listdir(h5_dir):\n",
    "        if not fname.endswith(\".h5\"):\n",
    "            continue\n",
    "\n",
    "        fpath = os.path.join(h5_dir, fname)\n",
    "        with h5py.File(fpath, 'r') as f:\n",
    "            data = f['data'][:]  # shape: (T_i, C)\n",
    "            seq_len = data.shape[0]\n",
    "            file_lens[fname] = seq_len\n",
    "            max_len = max(max_len, seq_len)\n",
    "\n",
    "    return max_len, file_lens\n",
    "\n",
    "# 경로 지정\n",
    "train_dir = \"../../data/all_step/train\"\n",
    "test_dir = \"../../data/all_step/test\"\n",
    "train_max, train_lens = find_max_sequence_length(train_dir)\n",
    "test_max, test_lens = find_max_sequence_length(test_dir)\n",
    "\n",
    "print(f\"Train max length: {train_max}\")\n",
    "print(f\"Test  max length: {test_max}\")\n",
    "print(f\"Total max length: {max(train_max, test_max)}\")\n"
   ]
  }
 ],
 "metadata": {
  "kernelspec": {
   "display_name": "VTT",
   "language": "python",
   "name": "python3"
  },
  "language_info": {
   "codemirror_mode": {
    "name": "ipython",
    "version": 3
   },
   "file_extension": ".py",
   "mimetype": "text/x-python",
   "name": "python",
   "nbconvert_exporter": "python",
   "pygments_lexer": "ipython3",
   "version": "3.9.21"
  }
 },
 "nbformat": 4,
 "nbformat_minor": 5
}
